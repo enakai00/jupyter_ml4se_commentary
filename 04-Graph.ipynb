{
 "cells": [
  {
   "cell_type": "markdown",
   "metadata": {},
   "source": [
    "# グラフの描画"
   ]
  },
  {
   "cell_type": "code",
   "execution_count": 1,
   "metadata": {
    "collapsed": true
   },
   "outputs": [],
   "source": [
    "import numpy as np\n",
    "import matplotlib.pyplot as plt\n",
    "import pandas as pd\n",
    "from pandas import Series, DataFrame"
   ]
  },
  {
   "cell_type": "code",
   "execution_count": 2,
   "metadata": {
    "collapsed": true
   },
   "outputs": [],
   "source": [
    "from numpy.random import randint"
   ]
  },
  {
   "cell_type": "markdown",
   "metadata": {},
   "source": [
    "2個のサイコロを100回振った結果を保存"
   ]
  },
  {
   "cell_type": "code",
   "execution_count": 3,
   "metadata": {
    "collapsed": false
   },
   "outputs": [
    {
     "data": {
      "text/plain": [
       "array([[2, 1],\n",
       "       [3, 2],\n",
       "       [4, 3],\n",
       "       [4, 3],\n",
       "       [1, 1]])"
      ]
     },
     "execution_count": 3,
     "metadata": {},
     "output_type": "execute_result"
    }
   ],
   "source": [
    "dices = randint(1,7,(100, 2)) \n",
    "dices[:5]"
   ]
  },
  {
   "cell_type": "markdown",
   "metadata": {},
   "source": [
    "2個の目の合計を計算"
   ]
  },
  {
   "cell_type": "code",
   "execution_count": 4,
   "metadata": {
    "collapsed": false
   },
   "outputs": [
    {
     "data": {
      "text/plain": [
       "array([3, 5, 7, 7, 2])"
      ]
     },
     "execution_count": 4,
     "metadata": {},
     "output_type": "execute_result"
    }
   ],
   "source": [
    "total = np.sum(dices, axis=1)\n",
    "total[:5]"
   ]
  },
  {
   "cell_type": "markdown",
   "metadata": {},
   "source": [
    "それぞれの目について、ゾロ目の回数を計算"
   ]
  },
  {
   "cell_type": "code",
   "execution_count": 5,
   "metadata": {
    "collapsed": false
   },
   "outputs": [
    {
     "data": {
      "text/plain": [
       "[3, 7, 3, 3, 1, 3]"
      ]
     },
     "execution_count": 5,
     "metadata": {},
     "output_type": "execute_result"
    }
   ],
   "source": [
    "doublets = [0,0,0,0,0,0]\n",
    "for (x, y) in dices:\n",
    "    if x == y:\n",
    "        doublets[x-1] += 1\n",
    "doublets"
   ]
  },
  {
   "cell_type": "markdown",
   "metadata": {},
   "source": [
    "目の組み合わせごとの回数を計算"
   ]
  },
  {
   "cell_type": "code",
   "execution_count": 6,
   "metadata": {
    "collapsed": false
   },
   "outputs": [
    {
     "name": "stdout",
     "output_type": "stream",
     "text": [
      "[[ 3.  3.  2.  4.  3.  3.]\n",
      " [ 2.  7.  3.  1.  3.  1.]\n",
      " [ 4.  0.  3.  4.  2.  5.]\n",
      " [ 3.  0.  7.  3.  3.  0.]\n",
      " [ 1.  2.  4.  2.  1.  2.]\n",
      " [ 0.  2.  3.  5.  6.  3.]]\n"
     ]
    }
   ],
   "source": [
    "counts = np.zeros((6,6))\n",
    "for (x, y) in dices:\n",
    "    counts[y-1, x-1] += 1\n",
    "print counts"
   ]
  },
  {
   "cell_type": "markdown",
   "metadata": {},
   "source": [
    "計算結果をグラフに表示"
   ]
  },
  {
   "cell_type": "code",
   "execution_count": 7,
   "metadata": {
    "collapsed": false
   },
   "outputs": [
    {
     "data": {
      "text/plain": [
       "<matplotlib.image.AxesImage at 0x4905150>"
      ]
     },
     "execution_count": 7,
     "metadata": {},
     "output_type": "execute_result"
    },
    {
     "data": {
      "image/png": "[encoded data removed]",
      "text/plain": [
       "<matplotlib.figure.Figure at 0x45cddd0>"
      ]
     },
     "metadata": {},
     "output_type": "display_data"
    }
   ],
   "source": [
    "fig = plt.figure(figsize=(14,4))\n",
    "subplot = fig.add_subplot(1,3,1)\n",
    "subplot.set_title('Sum of 2dices')\n",
    "subplot.set_xlabel('Total')\n",
    "subplot.set_ylabel('Count')\n",
    "subplot.set_xlim(1,13)\n",
    "subplot.hist(total, bins=11, range=(1.5, 12.5), label='Sum')\n",
    "\n",
    "subplot = fig.add_subplot(1,3,2)\n",
    "subplot.set_title('Doublets counts')\n",
    "subplot.set_xlabel('Number')\n",
    "subplot.set_ylabel('Count')\n",
    "subplot.set_xlim(0.5, 6.5)\n",
    "subplot.bar(range(1,7), doublets, align='center')\n",
    "\n",
    "subplot = fig.add_subplot(1,3,3)\n",
    "subplot.set_title('Pair counts')\n",
    "subplot.set_xlabel('Dice1')\n",
    "subplot.set_ylabel('Dice2')\n",
    "subplot.imshow(counts,\n",
    "    origin='lower', extent=(0.5,6.5,0.5,6.5),\n",
    "    interpolation='nearest')"
   ]
  },
  {
   "cell_type": "code",
   "execution_count": 8,
   "metadata": {
    "collapsed": true
   },
   "outputs": [],
   "source": [
    "from numpy.random import normal"
   ]
  },
  {
   "cell_type": "code",
   "execution_count": 9,
   "metadata": {
    "collapsed": true
   },
   "outputs": [],
   "source": [
    "def generate_data01(n):\n",
    "    data_x = []\n",
    "    data_y = []\n",
    "    for i in range(n):\n",
    "        x = float(i) / float(n-1) # [0, 1]をn等分したi番目の値\n",
    "        y = np.sin(2*np.pi*x) + normal(0, 0.3)\n",
    "        data_x.append(x)\n",
    "        data_y.append(y)\n",
    "    return data_x, data_y"
   ]
  },
  {
   "cell_type": "code",
   "execution_count": 10,
   "metadata": {
    "collapsed": true
   },
   "outputs": [],
   "source": [
    "def generate_data02(n):\n",
    "    data_x = np.linspace(0,1,n)\n",
    "    data_y = np.sin(2*np.pi*data_x) + normal(0, 0.3, n)\n",
    "    return data_x, data_y"
   ]
  },
  {
   "cell_type": "code",
   "execution_count": 11,
   "metadata": {
    "collapsed": false,
    "scrolled": true
   },
   "outputs": [
    {
     "data": {
      "text/plain": [
       "<matplotlib.legend.Legend at 0x4abca90>"
      ]
     },
     "execution_count": 11,
     "metadata": {},
     "output_type": "execute_result"
    },
    {
     "data": {
      "image/png": "[encoded data removed]",
      "text/plain": [
       "<matplotlib.figure.Figure at 0x45da550>"
      ]
     },
     "metadata": {},
     "output_type": "display_data"
    }
   ],
   "source": [
    "fig = plt.figure()\n",
    "\n",
    "data_x, data_y = generate_data01(10)\n",
    "#data_x, data_y = generate_data02(10)\n",
    "\n",
    "subplot = fig.add_subplot(1,1,1)\n",
    "subplot.set_xlabel('Observation point')\n",
    "subplot.set_ylabel('Value')\n",
    "subplot.set_xlim(-0.05,1.05)\n",
    "\n",
    "# 生成したデータを表示\n",
    "subplot.scatter(data_x, data_y,\n",
    "                marker='o', color='blue',\n",
    "                label='Observed value')\n",
    "\n",
    "# 三角関数の曲線を表示\n",
    "linex = np.linspace(0,1,100)\n",
    "liney = np.sin(2*np.pi*linex)\n",
    "subplot.plot(linex, liney,\n",
    "             linestyle='--', color='green', \n",
    "             label='Theoretical curve')\n",
    "\n",
    "# 凡例を表示\n",
    "subplot.legend(loc=1)"
   ]
  },
  {
   "cell_type": "markdown",
   "metadata": {},
   "source": [
    "## 練習問題"
   ]
  },
  {
   "cell_type": "markdown",
   "metadata": {},
   "source": [
    "(1) -1≦x≦1 の範囲で、sin(2πx) と cos(2πx) のグラフを重ねて表示してください。軸ラベルや凡例などを好みで追加してください。 "
   ]
  },
  {
   "cell_type": "markdown",
   "metadata": {},
   "source": [
    "(2) -1≦x≦1 の範囲で、sin(2πx) と cos(2πx) のグラフを（上下2段に）別々に表示してください。軸ラベルや凡例などを好みで追加してください。 "
   ]
  },
  {
   "cell_type": "markdown",
   "metadata": {},
   "source": [
    "(3) 次は、-10≦x≦10, -10≦y≦10（x, yは整数）の範囲について、x\\*x + y\\*y の値を保存した10x10行列（array）を用意して、ヒートマップを描くコードです。中間部分に必要なコードを追加して、実際にヒートマップを描いてください。"
   ]
  },
  {
   "cell_type": "raw",
   "metadata": {},
   "source": [
    "data = np.array([[x**2 + y**2 for x in range(-10,11)] for y in range(-10,11)])\n",
    "# この部分に必要なコードを追加してください。\n",
    "subplot.imshow(data, origin='lower', extent=(-10,10,-10,10), interpolation='nearest')"
   ]
  },
  {
   "cell_type": "markdown",
   "metadata": {},
   "source": [
    "(4) (3)において、imshowメソッドのオプション interpolation='nearest' を取ると結果がどのように変わるか確認してください。あるいは、オプション cmap=plt.cm.gray_r を付けるとどのように変わるか確認してください。"
   ]
  },
  {
   "cell_type": "markdown",
   "metadata": {},
   "source": [
    "(5) 次は、(3)と同じデータを 0≦x≦10, 0≦y≦10 の範囲に制限したものです。(3)と同様のコードでヒートマップを描いて、originオプションの有無、もしくは、extentオプションに指定する値を変更した際にグラフがどのように変化するか観察してください。\n",
    "\n",
    "（ヒント：extentオプションは、グラフの目盛りに付ける数値を指定するもので、グラフに描くデータの範囲を指定するものではありません。）"
   ]
  },
  {
   "cell_type": "raw",
   "metadata": {},
   "source": [
    "data = np.array([[x**2 + y**2 for x in range(0,11)] for y in range(0,11)])\n",
    "# この部分に必要なコードを追加してください。\n",
    "subplot.imshow(data, origin='lower', extent=(0,10,0,10), interpolation='nearest')"
   ]
  }
 ],
 "metadata": {
  "kernelspec": {
   "display_name": "Python 2",
   "language": "python",
   "name": "python2"
  },
  "language_info": {
   "codemirror_mode": {
    "name": "ipython",
    "version": 2
   },
   "file_extension": ".py",
   "mimetype": "text/x-python",
   "name": "python",
   "nbconvert_exporter": "python",
   "pygments_lexer": "ipython2",
   "version": "2.7.5"
  }
 },
 "nbformat": 4,
 "nbformat_minor": 0
}
