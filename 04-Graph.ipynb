{
 "cells": [
  {
   "cell_type": "code",
   "execution_count": 1,
   "metadata": {
    "collapsed": true
   },
   "outputs": [],
   "source": [
    "import numpy as np\n",
    "import matplotlib.pyplot as plt\n",
    "import pandas as pd\n",
    "from pandas import Series, DataFrame"
   ]
  },
  {
   "cell_type": "code",
   "execution_count": 2,
   "metadata": {
    "collapsed": true
   },
   "outputs": [],
   "source": [
    "from numpy.random import randint"
   ]
  },
  {
   "cell_type": "markdown",
   "metadata": {},
   "source": [
    "2個のサイコロを100回振った結果を保存"
   ]
  },
  {
   "cell_type": "code",
   "execution_count": 3,
   "metadata": {
    "collapsed": false
   },
   "outputs": [
    {
     "data": {
      "text/plain": [
       "array([[1, 3],\n",
       "       [3, 2],\n",
       "       [2, 2],\n",
       "       [2, 6],\n",
       "       [1, 6]])"
      ]
     },
     "execution_count": 3,
     "metadata": {},
     "output_type": "execute_result"
    }
   ],
   "source": [
    "dices = randint(1,7,(100, 2)) \n",
    "dices[:5]"
   ]
  },
  {
   "cell_type": "markdown",
   "metadata": {},
   "source": [
    "2個の目の合計を計算"
   ]
  },
  {
   "cell_type": "code",
   "execution_count": 4,
   "metadata": {
    "collapsed": false
   },
   "outputs": [
    {
     "data": {
      "text/plain": [
       "array([4, 5, 4, 8, 7])"
      ]
     },
     "execution_count": 4,
     "metadata": {},
     "output_type": "execute_result"
    }
   ],
   "source": [
    "total = np.sum(dices, axis=1)\n",
    "total[:5]"
   ]
  },
  {
   "cell_type": "markdown",
   "metadata": {},
   "source": [
    "それぞれの目について、ゾロ目の回数を計算"
   ]
  },
  {
   "cell_type": "code",
   "execution_count": 5,
   "metadata": {
    "collapsed": false
   },
   "outputs": [
    {
     "data": {
      "text/plain": [
       "[4, 5, 1, 4, 1, 5]"
      ]
     },
     "execution_count": 5,
     "metadata": {},
     "output_type": "execute_result"
    }
   ],
   "source": [
    "doublets = [0,0,0,0,0,0]\n",
    "for (x, y) in dices:\n",
    "    if x == y:\n",
    "        doublets[x-1] += 1\n",
    "doublets"
   ]
  },
  {
   "cell_type": "markdown",
   "metadata": {},
   "source": [
    "目の組み合わせごとの回数を計算"
   ]
  },
  {
   "cell_type": "code",
   "execution_count": 6,
   "metadata": {
    "collapsed": false
   },
   "outputs": [
    {
     "name": "stdout",
     "output_type": "stream",
     "text": [
      "[[ 4.  0.  2.  5.  2.  4.]\n",
      " [ 2.  5.  2.  3.  2.  3.]\n",
      " [ 6.  2.  1.  3.  1.  6.]\n",
      " [ 1.  1.  2.  4.  2.  2.]\n",
      " [ 6.  3.  1.  1.  1.  2.]\n",
      " [ 2.  6.  7.  1.  0.  5.]]\n"
     ]
    }
   ],
   "source": [
    "counts = np.zeros((6,6))\n",
    "for (x, y) in dices:\n",
    "    counts[y-1, x-1] += 1\n",
    "print counts"
   ]
  },
  {
   "cell_type": "markdown",
   "metadata": {},
   "source": [
    "計算結果をグラフに表示"
   ]
  },
  {
   "cell_type": "code",
   "execution_count": 7,
   "metadata": {
    "collapsed": false
   },
   "outputs": [
    {
     "data": {
      "text/plain": [
       "<matplotlib.image.AxesImage at 0x55a6050>"
      ]
     },
     "execution_count": 7,
     "metadata": {},
     "output_type": "execute_result"
    },
    {
     "data": {
      "image/png": "[encoded data removed]",
      "text/plain": [
       "<matplotlib.figure.Figure at 0x533b7d0>"
      ]
     },
     "metadata": {},
     "output_type": "display_data"
    }
   ],
   "source": [
    "fig = plt.figure(figsize=(14,4))\n",
    "subplot = fig.add_subplot(1,3,1)\n",
    "subplot.set_title('Sum of 2dices')\n",
    "subplot.set_xlabel('Total')\n",
    "subplot.set_ylabel('Count')\n",
    "subplot.set_xlim(1,13)\n",
    "subplot.hist(total, bins=11, range=(2,13), align='left', label='Sum')\n",
    "\n",
    "subplot = fig.add_subplot(1,3,2)\n",
    "subplot.set_title('Doublets counts')\n",
    "subplot.set_xlabel('Number')\n",
    "subplot.set_ylabel('Count')\n",
    "subplot.set_xlim(0.5, 6.5)\n",
    "subplot.bar(range(1,7), doublets, align='center')\n",
    "\n",
    "subplot = fig.add_subplot(1,3,3)\n",
    "subplot.set_title('Pair counts')\n",
    "subplot.set_xlabel('Dice1')\n",
    "subplot.set_ylabel('Dice2')\n",
    "subplot.imshow(counts,\n",
    "    origin='lower', extent=(0.5,6.5,0.5,6.5),\n",
    "    interpolation='nearest')"
   ]
  },
  {
   "cell_type": "code",
   "execution_count": 8,
   "metadata": {
    "collapsed": true
   },
   "outputs": [],
   "source": [
    "from numpy.random import normal"
   ]
  },
  {
   "cell_type": "code",
   "execution_count": 9,
   "metadata": {
    "collapsed": true
   },
   "outputs": [],
   "source": [
    "def generate_data01(n):\n",
    "    data_x = []\n",
    "    data_y = []\n",
    "    for i in range(n):\n",
    "        x = float(i) / float(n-1) # [0, 1]をn等分したi番目の値\n",
    "        y = np.sin(2*np.pi*x) + normal(0, 0.3)\n",
    "        data_x.append(x)\n",
    "        data_y.append(y)\n",
    "    return data_x, data_y"
   ]
  },
  {
   "cell_type": "code",
   "execution_count": 10,
   "metadata": {
    "collapsed": true
   },
   "outputs": [],
   "source": [
    "def generate_data02(n):\n",
    "    data_x = np.linspace(0,1,n)\n",
    "    data_y = np.sin(2*np.pi*data_x) + normal(0, 0.3, n)\n",
    "    return data_x, data_y"
   ]
  },
  {
   "cell_type": "code",
   "execution_count": 11,
   "metadata": {
    "collapsed": false
   },
   "outputs": [
    {
     "data": {
      "text/plain": [
       "<matplotlib.legend.Legend at 0x545b090>"
      ]
     },
     "execution_count": 11,
     "metadata": {},
     "output_type": "execute_result"
    },
    {
     "data": {
      "image/png": "[encoded data removed]",
      "text/plain": [
       "<matplotlib.figure.Figure at 0x56c4f10>"
      ]
     },
     "metadata": {},
     "output_type": "display_data"
    }
   ],
   "source": [
    "fig = plt.figure()\n",
    "\n",
    "data_x, data_y = generate_data01(10)\n",
    "#data_x, data_y = generate_data02(10)\n",
    "\n",
    "subplot = fig.add_subplot(1,1,1)\n",
    "subplot.set_xlabel('Observation point')\n",
    "subplot.set_ylabel('Value')\n",
    "subplot.set_xlim(-0.05,1.05)\n",
    "\n",
    "# 生成したデータを表示\n",
    "subplot.scatter(data_x, data_y,\n",
    "                marker='o', color='blue',\n",
    "                label='Observed value')\n",
    "\n",
    "# 三角関数の曲線を表示\n",
    "linex = np.linspace(0,1,100)\n",
    "liney = np.sin(2*np.pi*linex)\n",
    "subplot.plot(linex, liney,\n",
    "             linestyle='--', color='green', \n",
    "             label='Theoretical curve')\n",
    "\n",
    "# 凡例を表示\n",
    "subplot.legend(loc=1)"
   ]
  }
 ],
 "metadata": {
  "kernelspec": {
   "display_name": "Python 2",
   "language": "python",
   "name": "python2"
  },
  "language_info": {
   "codemirror_mode": {
    "name": "ipython",
    "version": 2
   },
   "file_extension": ".py",
   "mimetype": "text/x-python",
   "name": "python",
   "nbconvert_exporter": "python",
   "pygments_lexer": "ipython2",
   "version": "2.7.5"
  }
 },
 "nbformat": 4,
 "nbformat_minor": 0
}
