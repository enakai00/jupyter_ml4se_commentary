{
 "cells": [
  {
   "cell_type": "code",
   "execution_count": 1,
   "metadata": {
    "collapsed": false
   },
   "outputs": [],
   "source": [
    "import numpy as np\n",
    "import matplotlib.pyplot as plt\n",
    "import pandas as pd\n",
    "from pandas import Series, DataFrame\n",
    "\n",
    "from numpy.random import multivariate_normal"
   ]
  },
  {
   "cell_type": "code",
   "execution_count": 2,
   "metadata": {
    "collapsed": true
   },
   "outputs": [],
   "source": [
    "def prepare_dataset(n1, mu1, variance1, n2, mu2, variance2):\n",
    "    df1 = DataFrame(multivariate_normal(mu1, np.eye(2)*variance1 ,n1),\n",
    "                    columns=['x','y'])\n",
    "    df1['type'] = 1\n",
    "    df2 = DataFrame(multivariate_normal(mu2, np.eye(2)*variance2, n2),\n",
    "                    columns=['x','y'])\n",
    "    df2['type'] = -1\n",
    "    df = pd.concat([df1,df2], ignore_index=True)\n",
    "    df = df.reindex(np.random.permutation(df.index)).reset_index(drop=True)\n",
    "    return df"
   ]
  },
  {
   "cell_type": "code",
   "execution_count": 3,
   "metadata": {
    "collapsed": true
   },
   "outputs": [],
   "source": [
    "train_set = prepare_dataset(20, [15,10], 15, 30, [0,0], 15)"
   ]
  },
  {
   "cell_type": "code",
   "execution_count": 4,
   "metadata": {
    "collapsed": false
   },
   "outputs": [
    {
     "data": {
      "text/html": [
       "<div>\n",
       "<table border=\"1\" class=\"dataframe\">\n",
       "  <thead>\n",
       "    <tr style=\"text-align: right;\">\n",
       "      <th></th>\n",
       "      <th>x</th>\n",
       "      <th>y</th>\n",
       "      <th>type</th>\n",
       "    </tr>\n",
       "  </thead>\n",
       "  <tbody>\n",
       "    <tr>\n",
       "      <th>0</th>\n",
       "      <td>3.153045</td>\n",
       "      <td>3.130352</td>\n",
       "      <td>-1</td>\n",
       "    </tr>\n",
       "    <tr>\n",
       "      <th>1</th>\n",
       "      <td>15.825834</td>\n",
       "      <td>13.587521</td>\n",
       "      <td>1</td>\n",
       "    </tr>\n",
       "    <tr>\n",
       "      <th>2</th>\n",
       "      <td>12.813575</td>\n",
       "      <td>8.599196</td>\n",
       "      <td>1</td>\n",
       "    </tr>\n",
       "    <tr>\n",
       "      <th>3</th>\n",
       "      <td>0.675097</td>\n",
       "      <td>-1.206019</td>\n",
       "      <td>-1</td>\n",
       "    </tr>\n",
       "    <tr>\n",
       "      <th>4</th>\n",
       "      <td>-4.510967</td>\n",
       "      <td>-1.451511</td>\n",
       "      <td>-1</td>\n",
       "    </tr>\n",
       "    <tr>\n",
       "      <th>5</th>\n",
       "      <td>-10.572530</td>\n",
       "      <td>1.093595</td>\n",
       "      <td>-1</td>\n",
       "    </tr>\n",
       "    <tr>\n",
       "      <th>6</th>\n",
       "      <td>11.546414</td>\n",
       "      <td>10.606383</td>\n",
       "      <td>1</td>\n",
       "    </tr>\n",
       "    <tr>\n",
       "      <th>7</th>\n",
       "      <td>-2.420563</td>\n",
       "      <td>-1.865068</td>\n",
       "      <td>-1</td>\n",
       "    </tr>\n",
       "    <tr>\n",
       "      <th>8</th>\n",
       "      <td>6.110758</td>\n",
       "      <td>-0.954161</td>\n",
       "      <td>-1</td>\n",
       "    </tr>\n",
       "    <tr>\n",
       "      <th>9</th>\n",
       "      <td>7.666255</td>\n",
       "      <td>-1.576934</td>\n",
       "      <td>-1</td>\n",
       "    </tr>\n",
       "  </tbody>\n",
       "</table>\n",
       "</div>"
      ],
      "text/plain": [
       "           x          y  type\n",
       "0   3.153045   3.130352    -1\n",
       "1  15.825834  13.587521     1\n",
       "2  12.813575   8.599196     1\n",
       "3   0.675097  -1.206019    -1\n",
       "4  -4.510967  -1.451511    -1\n",
       "5 -10.572530   1.093595    -1\n",
       "6  11.546414  10.606383     1\n",
       "7  -2.420563  -1.865068    -1\n",
       "8   6.110758  -0.954161    -1\n",
       "9   7.666255  -1.576934    -1"
      ]
     },
     "execution_count": 4,
     "metadata": {},
     "output_type": "execute_result"
    }
   ],
   "source": [
    "train_set.head(10)"
   ]
  },
  {
   "cell_type": "code",
   "execution_count": 5,
   "metadata": {
    "collapsed": true
   },
   "outputs": [],
   "source": [
    "def prepare_dataset_debug(n1, mu1, variance1, n2, mu2, variance2):\n",
    "    df1 = DataFrame(multivariate_normal(mu1, np.eye(2)*variance1 ,n1),\n",
    "                    columns=['x','y'])\n",
    "    df1['type'] = 1\n",
    "    \n",
    "    print '\\ndf1:'\n",
    "    print df1.head()\n",
    "    \n",
    "    df2 = DataFrame(multivariate_normal(mu2, np.eye(2)*variance2, n2),\n",
    "                    columns=['x','y'])\n",
    "    df2['type'] = -1\n",
    "    \n",
    "    print '\\ndf2:'\n",
    "    print df2.head()\n",
    "        \n",
    "    df = pd.concat([df1,df2], ignore_index=True)\n",
    "    df = df.reindex(np.random.permutation(df.index)).reset_index(drop=True)\n",
    "    return df"
   ]
  },
  {
   "cell_type": "code",
   "execution_count": 6,
   "metadata": {
    "collapsed": false
   },
   "outputs": [
    {
     "name": "stdout",
     "output_type": "stream",
     "text": [
      "\n",
      "df1:\n",
      "           x          y  type\n",
      "0  14.477726   7.959437     1\n",
      "1  13.690463   4.315477     1\n",
      "2  16.258191   4.732707     1\n",
      "3  22.279339  13.984933     1\n",
      "4  15.553373   7.499926     1\n",
      "\n",
      "df2:\n",
      "          x         y  type\n",
      "0 -1.280968 -1.464140    -1\n",
      "1 -3.820834  1.561394    -1\n",
      "2  1.613477  2.267638    -1\n",
      "3 -4.554196 -3.150507    -1\n",
      "4  2.430743  2.017678    -1\n"
     ]
    }
   ],
   "source": [
    "train_set = prepare_dataset_debug(20, [15,10], 15, 30, [0,0], 15)"
   ]
  },
  {
   "cell_type": "code",
   "execution_count": 7,
   "metadata": {
    "collapsed": true
   },
   "outputs": [],
   "source": [
    "def run_train(train_set):\n",
    "    # パラメータの初期値とbias項の設定\n",
    "    w0 = w1 = w2 = 0.0\n",
    "    bias = 0.5 * (train_set.x.mean() + train_set.y.mean())\n",
    "\n",
    "    # Iterationを実施\n",
    "    paramhist = DataFrame([[w0,w1,w2]], columns=['w0','w1','w2'])\n",
    "    for i in range(30):\n",
    "        for index, point in train_set.iterrows():\n",
    "            x, y, type = point.x, point.y, point.type\n",
    "            if type * (w0*bias + w1*x + w2*y) <= 0:\n",
    "                w0 += type * bias\n",
    "                w1 += type * x\n",
    "                w2 += type * y\n",
    "        paramhist = paramhist.append(Series([w0,w1,w2], ['w0','w1','w2']),\n",
    "                                     ignore_index=True)\n",
    "    \n",
    "    # 判定誤差の計算\n",
    "    err = 0\n",
    "    for index, point in train_set.iterrows():\n",
    "        x, y, type = point.x, point.y, point.type\n",
    "        if type * (w0*bias + w1*x + w2*y) <= 0:\n",
    "            err += 1\n",
    "    err_rate = err * 100 / len(train_set)\n",
    "    \n",
    "    return paramhist, err_rate"
   ]
  },
  {
   "cell_type": "code",
   "execution_count": 8,
   "metadata": {
    "collapsed": false
   },
   "outputs": [
    {
     "data": {
      "text/html": [
       "<div>\n",
       "<table border=\"1\" class=\"dataframe\">\n",
       "  <thead>\n",
       "    <tr style=\"text-align: right;\">\n",
       "      <th></th>\n",
       "      <th>w0</th>\n",
       "      <th>w1</th>\n",
       "      <th>w2</th>\n",
       "    </tr>\n",
       "  </thead>\n",
       "  <tbody>\n",
       "    <tr>\n",
       "      <th>0</th>\n",
       "      <td>0.0</td>\n",
       "      <td>0.000000</td>\n",
       "      <td>0.000000</td>\n",
       "    </tr>\n",
       "    <tr>\n",
       "      <th>1</th>\n",
       "      <td>-7.0</td>\n",
       "      <td>10.226106</td>\n",
       "      <td>4.370980</td>\n",
       "    </tr>\n",
       "    <tr>\n",
       "      <th>2</th>\n",
       "      <td>-8.0</td>\n",
       "      <td>19.382292</td>\n",
       "      <td>10.881953</td>\n",
       "    </tr>\n",
       "    <tr>\n",
       "      <th>3</th>\n",
       "      <td>-11.0</td>\n",
       "      <td>23.252686</td>\n",
       "      <td>10.119207</td>\n",
       "    </tr>\n",
       "    <tr>\n",
       "      <th>4</th>\n",
       "      <td>-14.0</td>\n",
       "      <td>24.589077</td>\n",
       "      <td>10.408212</td>\n",
       "    </tr>\n",
       "    <tr>\n",
       "      <th>5</th>\n",
       "      <td>-17.0</td>\n",
       "      <td>25.925469</td>\n",
       "      <td>10.697217</td>\n",
       "    </tr>\n",
       "    <tr>\n",
       "      <th>6</th>\n",
       "      <td>-20.0</td>\n",
       "      <td>13.367002</td>\n",
       "      <td>-1.991919</td>\n",
       "    </tr>\n",
       "    <tr>\n",
       "      <th>7</th>\n",
       "      <td>-21.0</td>\n",
       "      <td>11.783361</td>\n",
       "      <td>-1.673432</td>\n",
       "    </tr>\n",
       "    <tr>\n",
       "      <th>8</th>\n",
       "      <td>-22.0</td>\n",
       "      <td>11.594949</td>\n",
       "      <td>0.357970</td>\n",
       "    </tr>\n",
       "    <tr>\n",
       "      <th>9</th>\n",
       "      <td>-22.0</td>\n",
       "      <td>14.976053</td>\n",
       "      <td>1.642384</td>\n",
       "    </tr>\n",
       "  </tbody>\n",
       "</table>\n",
       "</div>"
      ],
      "text/plain": [
       "     w0         w1         w2\n",
       "0   0.0   0.000000   0.000000\n",
       "1  -7.0  10.226106   4.370980\n",
       "2  -8.0  19.382292  10.881953\n",
       "3 -11.0  23.252686  10.119207\n",
       "4 -14.0  24.589077  10.408212\n",
       "5 -17.0  25.925469  10.697217\n",
       "6 -20.0  13.367002  -1.991919\n",
       "7 -21.0  11.783361  -1.673432\n",
       "8 -22.0  11.594949   0.357970\n",
       "9 -22.0  14.976053   1.642384"
      ]
     },
     "execution_count": 8,
     "metadata": {},
     "output_type": "execute_result"
    }
   ],
   "source": [
    "paramhist, err_rate = run_train(train_set)\n",
    "paramhist.head(10)"
   ]
  },
  {
   "cell_type": "code",
   "execution_count": 9,
   "metadata": {
    "collapsed": true
   },
   "outputs": [],
   "source": [
    "def show_result(subplot, train_set, w0, w1, w2, err_rate):\n",
    "    train_set1 = train_set[train_set['type']==1]\n",
    "    train_set2 = train_set[train_set['type']==-1]\n",
    "    bias = 0.5 * (train_set.x.mean() + train_set.y.mean())\n",
    "    ymin, ymax = train_set.y.min()-5, train_set.y.max()+10\n",
    "    xmin, xmax = train_set.x.min()-5, train_set.x.max()+10\n",
    "\n",
    "    subplot.set_ylim([ymin-1, ymax+1])\n",
    "    subplot.set_xlim([xmin-1, xmax+1])\n",
    "    subplot.scatter(train_set1.x, train_set1.y, marker='o', label=None)\n",
    "    subplot.scatter(train_set2.x, train_set2.y, marker='x', label=None)\n",
    "\n",
    "    linex = np.arange(xmin-5, xmax+5)\n",
    "    liney = - linex * w1 / w2 - bias * w0 / w2\n",
    "    label = \"ERR %.2f%%\" % err_rate\n",
    "    subplot.plot(linex, liney, label=label, color='red')\n",
    "    subplot.legend(loc=1)"
   ]
  },
  {
   "cell_type": "code",
   "execution_count": 10,
   "metadata": {
    "collapsed": false
   },
   "outputs": [
    {
     "data": {
      "text/plain": [
       "<matplotlib.legend.Legend at 0x4abe5d0>"
      ]
     },
     "execution_count": 10,
     "metadata": {},
     "output_type": "execute_result"
    },
    {
     "data": {
      "image/png": "[encoded data removed]",
      "text/plain": [
       "<matplotlib.figure.Figure at 0x4abe1d0>"
      ]
     },
     "metadata": {},
     "output_type": "display_data"
    }
   ],
   "source": [
    "paramhist.plot().legend(loc=1)"
   ]
  },
  {
   "cell_type": "code",
   "execution_count": 11,
   "metadata": {
    "collapsed": false
   },
   "outputs": [
    {
     "data": {
      "image/png": "[encoded data removed]",
      "text/plain": [
       "<matplotlib.figure.Figure at 0x4ebc950>"
      ]
     },
     "metadata": {},
     "output_type": "display_data"
    }
   ],
   "source": [
    "fig = plt.figure()\n",
    "subplot = fig.add_subplot(1,1,1)\n",
    "params = paramhist[-1:]\n",
    "w0, w1, w2 = float(params.w0), float(params.w1), float(params.w2)\n",
    "show_result(subplot, train_set, w0, w1, w2, err_rate)"
   ]
  }
 ],
 "metadata": {
  "kernelspec": {
   "display_name": "Python 2",
   "language": "python",
   "name": "python2"
  },
  "language_info": {
   "codemirror_mode": {
    "name": "ipython",
    "version": 2
   },
   "file_extension": ".py",
   "mimetype": "text/x-python",
   "name": "python",
   "nbconvert_exporter": "python",
   "pygments_lexer": "ipython2",
   "version": "2.7.5"
  }
 },
 "nbformat": 4,
 "nbformat_minor": 0
}
