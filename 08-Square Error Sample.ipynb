{
 "cells": [
  {
   "cell_type": "code",
   "execution_count": 1,
   "metadata": {
    "collapsed": false
   },
   "outputs": [],
   "source": [
    "import numpy as np\n",
    "import matplotlib.pyplot as plt\n",
    "import pandas as pd\n",
    "from pandas import Series, DataFrame\n",
    "\n",
    "from numpy.random import normal"
   ]
  },
  {
   "cell_type": "markdown",
   "metadata": {},
   "source": [
    "正弦関数に正規分布のノイズを載せたデータセットを生成する関数を定義します。\n",
    "\n",
    "これは、0≦x≦1 の区間を等分した num 個の点 x に対して、対応する y の値を生成します。"
   ]
  },
  {
   "cell_type": "code",
   "execution_count": 2,
   "metadata": {
    "collapsed": false
   },
   "outputs": [],
   "source": [
    "def create_dataset(num):\n",
    "    dataset = DataFrame(columns=['x','y'])\n",
    "    for i in range(num):\n",
    "        x = float(i)/float(num-1)\n",
    "        y = np.sin(2*np.pi*x) + normal(scale=0.3)\n",
    "        dataset = dataset.append(Series([x,y], index=['x','y']),\n",
    "                                 ignore_index=True)\n",
    "    return dataset"
   ]
  },
  {
   "cell_type": "markdown",
   "metadata": {},
   "source": [
    "例として、10個のデータをトレーニングセットとして生成します。"
   ]
  },
  {
   "cell_type": "code",
   "execution_count": 3,
   "metadata": {
    "collapsed": true
   },
   "outputs": [],
   "source": [
    "train_set = create_dataset(10)"
   ]
  },
  {
   "cell_type": "code",
   "execution_count": 4,
   "metadata": {
    "collapsed": false
   },
   "outputs": [
    {
     "data": {
      "text/html": [
       "<div>\n",
       "<table border=\"1\" class=\"dataframe\">\n",
       "  <thead>\n",
       "    <tr style=\"text-align: right;\">\n",
       "      <th></th>\n",
       "      <th>x</th>\n",
       "      <th>y</th>\n",
       "    </tr>\n",
       "  </thead>\n",
       "  <tbody>\n",
       "    <tr>\n",
       "      <th>0</th>\n",
       "      <td>0.000000</td>\n",
       "      <td>0.037401</td>\n",
       "    </tr>\n",
       "    <tr>\n",
       "      <th>1</th>\n",
       "      <td>0.111111</td>\n",
       "      <td>0.295997</td>\n",
       "    </tr>\n",
       "    <tr>\n",
       "      <th>2</th>\n",
       "      <td>0.222222</td>\n",
       "      <td>1.054565</td>\n",
       "    </tr>\n",
       "    <tr>\n",
       "      <th>3</th>\n",
       "      <td>0.333333</td>\n",
       "      <td>1.293890</td>\n",
       "    </tr>\n",
       "    <tr>\n",
       "      <th>4</th>\n",
       "      <td>0.444444</td>\n",
       "      <td>0.088362</td>\n",
       "    </tr>\n",
       "    <tr>\n",
       "      <th>5</th>\n",
       "      <td>0.555556</td>\n",
       "      <td>-0.441398</td>\n",
       "    </tr>\n",
       "    <tr>\n",
       "      <th>6</th>\n",
       "      <td>0.666667</td>\n",
       "      <td>-0.959050</td>\n",
       "    </tr>\n",
       "    <tr>\n",
       "      <th>7</th>\n",
       "      <td>0.777778</td>\n",
       "      <td>-0.382559</td>\n",
       "    </tr>\n",
       "    <tr>\n",
       "      <th>8</th>\n",
       "      <td>0.888889</td>\n",
       "      <td>-1.025525</td>\n",
       "    </tr>\n",
       "    <tr>\n",
       "      <th>9</th>\n",
       "      <td>1.000000</td>\n",
       "      <td>-0.355797</td>\n",
       "    </tr>\n",
       "  </tbody>\n",
       "</table>\n",
       "</div>"
      ],
      "text/plain": [
       "          x         y\n",
       "0  0.000000  0.037401\n",
       "1  0.111111  0.295997\n",
       "2  0.222222  1.054565\n",
       "3  0.333333  1.293890\n",
       "4  0.444444  0.088362\n",
       "5  0.555556 -0.441398\n",
       "6  0.666667 -0.959050\n",
       "7  0.777778 -0.382559\n",
       "8  0.888889 -1.025525\n",
       "9  1.000000 -0.355797"
      ]
     },
     "execution_count": 4,
     "metadata": {},
     "output_type": "execute_result"
    }
   ],
   "source": [
    "train_set"
   ]
  },
  {
   "cell_type": "code",
   "execution_count": 5,
   "metadata": {
    "collapsed": false
   },
   "outputs": [
    {
     "data": {
      "text/plain": [
       "<matplotlib.axes._subplots.AxesSubplot at 0x4f5b810>"
      ]
     },
     "execution_count": 5,
     "metadata": {},
     "output_type": "execute_result"
    },
    {
     "data": {
      "image/png": "[encoded data removed]",
      "text/plain": [
       "<matplotlib.figure.Figure at 0x260e1d0>"
      ]
     },
     "metadata": {},
     "output_type": "display_data"
    }
   ],
   "source": [
    "train_set.plot(kind='scatter', x='x', y='y',\n",
    "             xlim=[-0.1,1.1], ylim=[-1.5,1.5])"
   ]
  },
  {
   "cell_type": "code",
   "execution_count": 6,
   "metadata": {
    "collapsed": true
   },
   "outputs": [],
   "source": [
    "def resolve(dataset, m):\n",
    "    t = dataset.y\n",
    "    phi = DataFrame()\n",
    "    for i in range(0,m+1):\n",
    "        p = dataset.x**i\n",
    "        p.name=\"x**%d\" % i\n",
    "        phi = pd.concat([phi,p], axis=1)\n",
    "    tmp = np.linalg.inv(np.dot(phi.T, phi))\n",
    "    ws = np.dot(np.dot(tmp, phi.T), t)\n",
    "\n",
    "    def f(x):\n",
    "        y = 0\n",
    "        for i, w in enumerate(ws):\n",
    "            y += w * (x ** i)\n",
    "        return y\n",
    "\n",
    "    return f"
   ]
  },
  {
   "cell_type": "code",
   "execution_count": 7,
   "metadata": {
    "collapsed": true
   },
   "outputs": [],
   "source": [
    "def resolve_debug(dataset, m):\n",
    "    t = dataset.y\n",
    "    \n",
    "    print \"\\nt:\"\n",
    "    print t\n",
    "    \n",
    "    phi = DataFrame()\n",
    "    for i in range(0,m+1):\n",
    "        p = dataset.x**i\n",
    "        p.name=\"x**%d\" % i\n",
    "        phi = pd.concat([phi,p], axis=1)\n",
    "\n",
    "    print \"\\nphi:\"\n",
    "    print phi\n",
    "    \n",
    "    tmp = np.linalg.inv(np.dot(phi.T, phi))\n",
    "    ws = np.dot(np.dot(tmp, phi.T), t)\n",
    "\n",
    "    print \"\\nws:\"\n",
    "    print ws\n",
    "    \n",
    "    def f(x):\n",
    "        y = 0\n",
    "        for i, w in enumerate(ws):\n",
    "            y += w * (x ** i)\n",
    "        return y\n",
    "\n",
    "    return f"
   ]
  },
  {
   "cell_type": "code",
   "execution_count": 8,
   "metadata": {
    "collapsed": false
   },
   "outputs": [
    {
     "name": "stdout",
     "output_type": "stream",
     "text": [
      "\n",
      "t:\n",
      "0    0.037401\n",
      "1    0.295997\n",
      "2    1.054565\n",
      "3    1.293890\n",
      "4    0.088362\n",
      "5   -0.441398\n",
      "6   -0.959050\n",
      "7   -0.382559\n",
      "8   -1.025525\n",
      "9   -0.355797\n",
      "Name: y, dtype: float64\n",
      "\n",
      "phi:\n",
      "   x**0      x**1      x**2      x**3\n",
      "0   1.0  0.000000  0.000000  0.000000\n",
      "1   1.0  0.111111  0.012346  0.001372\n",
      "2   1.0  0.222222  0.049383  0.010974\n",
      "3   1.0  0.333333  0.111111  0.037037\n",
      "4   1.0  0.444444  0.197531  0.087791\n",
      "5   1.0  0.555556  0.308642  0.171468\n",
      "6   1.0  0.666667  0.444444  0.296296\n",
      "7   1.0  0.777778  0.604938  0.470508\n",
      "8   1.0  0.888889  0.790123  0.702332\n",
      "9   1.0  1.000000  1.000000  1.000000\n",
      "\n",
      "ws:\n",
      "[ -0.08997674   9.98295178 -28.40666598  18.19449829]\n"
     ]
    }
   ],
   "source": [
    "f = resolve_debug(train_set, 3)"
   ]
  },
  {
   "cell_type": "markdown",
   "metadata": {},
   "source": [
    "得られた関数 f(x) に対して、トレーニングセットに対する平方根平均二乗誤差（RMS）を求める関数を用意します。"
   ]
  },
  {
   "cell_type": "code",
   "execution_count": 9,
   "metadata": {
    "collapsed": true
   },
   "outputs": [],
   "source": [
    "def rms_error(dataset, f):\n",
    "    err = 0.0\n",
    "    for index, line in dataset.iterrows():\n",
    "        x, y = line.x, line.y\n",
    "        err += 0.5 * (y - f(x))**2\n",
    "    return np.sqrt(2 * err / len(dataset))"
   ]
  },
  {
   "cell_type": "code",
   "execution_count": 10,
   "metadata": {
    "collapsed": false
   },
   "outputs": [],
   "source": [
    "def show_rms_trend(train_set, test_set):\n",
    "    df = DataFrame(columns=['Training set','Test set'])\n",
    "    for m in range(0,10):   # 多項式の次数\n",
    "        f = resolve(train_set, m)\n",
    "        train_error = rms_error(train_set, f)\n",
    "        test_error = rms_error(test_set, f)\n",
    "        df = df.append(Series([train_error, test_error],\n",
    "                              index=['Training set','Test set']),\n",
    "                       ignore_index=True)\n",
    "    df.plot(title='RMS Error', style=['-','--'], grid=True, ylim=(0,0.9))"
   ]
  },
  {
   "cell_type": "code",
   "execution_count": 13,
   "metadata": {
    "collapsed": true
   },
   "outputs": [],
   "source": [
    "def show_rms_trend_debug(train_set, test_set):\n",
    "    df = DataFrame(columns=['Training set','Test set'])\n",
    "    for m in range(0,10):   # 多項式の次数\n",
    "        f = resolve(train_set, m)\n",
    "        train_error = rms_error(train_set, f)\n",
    "        test_error = rms_error(test_set, f)\n",
    "        df = df.append(Series([train_error, test_error],\n",
    "                              index=['Training set','Test set']),\n",
    "                       ignore_index=True)\n",
    "    \n",
    "    print df\n",
    "    \n",
    "    df.plot(title='RMS Error', style=['-','--'], grid=True, ylim=(0,0.9))"
   ]
  },
  {
   "cell_type": "code",
   "execution_count": 14,
   "metadata": {
    "collapsed": false
   },
   "outputs": [
    {
     "name": "stdout",
     "output_type": "stream",
     "text": [
      "   Training set  Test set\n",
      "0      0.666683  0.667264\n",
      "1      0.446041  0.615923\n",
      "2      0.436804  0.601594\n",
      "3      0.238787  0.329494\n",
      "4      0.238171  0.328945\n",
      "5      0.238141  0.329865\n",
      "6      0.236387  0.338968\n",
      "7      0.234702  0.334412\n",
      "8      0.131603  0.377848\n",
      "9      0.000236  0.393753\n"
     ]
    },
    {
     "data": {
      "image/png": "[encoded data removed]",
      "text/plain": [
       "<matplotlib.figure.Figure at 0x53e6550>"
      ]
     },
     "metadata": {},
     "output_type": "display_data"
    }
   ],
   "source": [
    "train_set = create_dataset(10)\n",
    "test_set = create_dataset(10)\n",
    "show_rms_trend_debug(train_set, test_set)"
   ]
  }
 ],
 "metadata": {
  "kernelspec": {
   "display_name": "Python 2",
   "language": "python",
   "name": "python2"
  },
  "language_info": {
   "codemirror_mode": {
    "name": "ipython",
    "version": 2
   },
   "file_extension": ".py",
   "mimetype": "text/x-python",
   "name": "python",
   "nbconvert_exporter": "python",
   "pygments_lexer": "ipython2",
   "version": "2.7.5"
  }
 },
 "nbformat": 4,
 "nbformat_minor": 0
}
